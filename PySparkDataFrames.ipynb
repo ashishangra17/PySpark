{
  "nbformat": 4,
  "nbformat_minor": 0,
  "metadata": {
    "colab": {
      "name": "PySparkDataFrames.ipynb",
      "provenance": [],
      "authorship_tag": "ABX9TyODfILLPuaSY3epLs20Vnt/",
      "include_colab_link": true
    },
    "kernelspec": {
      "name": "python3",
      "display_name": "Python 3"
    },
    "language_info": {
      "name": "python"
    }
  },
  "cells": [
    {
      "cell_type": "markdown",
      "metadata": {
        "id": "view-in-github",
        "colab_type": "text"
      },
      "source": [
        "<a href=\"https://colab.research.google.com/github/ashishangra17/PySpark/blob/main/PySparkDataFrames.ipynb\" target=\"_parent\"><img src=\"https://colab.research.google.com/assets/colab-badge.svg\" alt=\"Open In Colab\"/></a>"
      ]
    },
    {
      "cell_type": "markdown",
      "source": [
        "# New Section"
      ],
      "metadata": {
        "id": "w8qfiXHkI0aS"
      }
    },
    {
      "cell_type": "code",
      "source": [
        "#! pip install pyspark"
      ],
      "metadata": {
        "id": "icgt2wSFI9jy"
      },
      "execution_count": null,
      "outputs": []
    },
    {
      "cell_type": "code",
      "source": [
        "import pandas as pd\n",
        "from pyspark.sql import SparkSession\n",
        "from pyspark.context import SparkContext\n",
        "from pyspark.sql.functions import *\n",
        "from pyspark.sql.types import *\n",
        "from datetime import date, timedelta, datetime, time\n",
        "from google.colab import files\n",
        "uploaded = files.upload()\n"
      ],
      "metadata": {
        "colab": {
          "base_uri": "https://localhost:8080/",
          "height": 73,
          "resources": {
            "http://localhost:8080/nbextensions/google.colab/files.js": {
              "data": "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",
              "ok": true,
              "headers": [
                [
                  "content-type",
                  "application/javascript"
                ]
              ],
              "status": 200,
              "status_text": ""
            }
          }
        },
        "id": "YTnGt1hdl2iT",
        "outputId": "112fa5bd-c625-4e79-b2a9-987c052eded8"
      },
      "execution_count": 31,
      "outputs": [
        {
          "output_type": "display_data",
          "data": {
            "text/plain": [
              "<IPython.core.display.HTML object>"
            ],
            "text/html": [
              "\n",
              "     <input type=\"file\" id=\"files-8e4d321c-9164-4ac6-9af3-a04adfe24c3f\" name=\"files[]\" multiple disabled\n",
              "        style=\"border:none\" />\n",
              "     <output id=\"result-8e4d321c-9164-4ac6-9af3-a04adfe24c3f\">\n",
              "      Upload widget is only available when the cell has been executed in the\n",
              "      current browser session. Please rerun this cell to enable.\n",
              "      </output>\n",
              "      <script src=\"/nbextensions/google.colab/files.js\"></script> "
            ]
          },
          "metadata": {}
        },
        {
          "output_type": "stream",
          "name": "stdout",
          "text": [
            "Saving nyt2.json to nyt2.json\n"
          ]
        }
      ]
    },
    {
      "cell_type": "code",
      "source": [
        "sc = SparkSession.builder.appName(\"PysparkExample\").config (\"spark.sql.shuffle.partitions\", \"50\").config(\"spark.driver.maxResultSize\",\"5g\").config (\"spark.sql.execution.arrow.enabled\", \"true\").getOrCreate()"
      ],
      "metadata": {
        "id": "d7sK_OD6n6K5"
      },
      "execution_count": 45,
      "outputs": []
    },
    {
      "cell_type": "code",
      "source": [
        "sc"
      ],
      "metadata": {
        "colab": {
          "base_uri": "https://localhost:8080/",
          "height": 219
        },
        "id": "JUI83RtMu163",
        "outputId": "88fea72b-1671-40b3-bd5e-f769e41eb104"
      },
      "execution_count": 46,
      "outputs": [
        {
          "output_type": "execute_result",
          "data": {
            "text/plain": [
              "<pyspark.sql.session.SparkSession at 0x7f497c520a90>"
            ],
            "text/html": [
              "\n",
              "            <div>\n",
              "                <p><b>SparkSession - in-memory</b></p>\n",
              "                \n",
              "        <div>\n",
              "            <p><b>SparkContext</b></p>\n",
              "\n",
              "            <p><a href=\"http://5fdf52d96567:4040\">Spark UI</a></p>\n",
              "\n",
              "            <dl>\n",
              "              <dt>Version</dt>\n",
              "                <dd><code>v3.2.1</code></dd>\n",
              "              <dt>Master</dt>\n",
              "                <dd><code>local[*]</code></dd>\n",
              "              <dt>AppName</dt>\n",
              "                <dd><code>PysparkExample</code></dd>\n",
              "            </dl>\n",
              "        </div>\n",
              "        \n",
              "            </div>\n",
              "        "
            ]
          },
          "metadata": {},
          "execution_count": 46
        }
      ]
    },
    {
      "cell_type": "code",
      "source": [
        "dataframe = sc.read.json('nyt2.json')\n",
        "#TXT FILES# \n",
        "#dataframe_txt = sc.read.text('text_data.txt')\n",
        "#CSV FILES# \n",
        "#dataframe_csv = sc.read.csv('csv_data.csv')\n",
        "#PARQUET FILES# \n",
        "#dataframe_parquet = sc.read.load('parquet_data.parquet')"
      ],
      "metadata": {
        "id": "ZaNwpPEHoJL6"
      },
      "execution_count": 33,
      "outputs": []
    },
    {
      "cell_type": "code",
      "source": [
        "dataframe.show()"
      ],
      "metadata": {
        "colab": {
          "base_uri": "https://localhost:8080/"
        },
        "id": "vv4L0hdbqsP0",
        "outputId": "24663b7b-3f99-4942-9239-dad03235bd84"
      },
      "execution_count": 35,
      "outputs": [
        {
          "output_type": "stream",
          "name": "stdout",
          "text": [
            "+--------------------+--------------------+--------------------+-----------------+--------------------+-------------+-----------------+--------------------+----+--------------+--------------------+-------------+\n",
            "|                 _id|  amazon_product_url|              author| bestsellers_date|         description|        price|   published_date|           publisher|rank|rank_last_week|               title|weeks_on_list|\n",
            "+--------------------+--------------------+--------------------+-----------------+--------------------+-------------+-----------------+--------------------+----+--------------+--------------------+-------------+\n",
            "|{5b4aa4ead3089013...|http://www.amazon...|       Dean R Koontz|{{1211587200000}}|Odd Thomas, who c...|   {null, 27}|{{1212883200000}}|              Bantam| {1}|           {0}|           ODD HOURS|          {1}|\n",
            "|{5b4aa4ead3089013...|http://www.amazon...|     Stephenie Meyer|{{1211587200000}}|Aliens have taken...|{25.99, null}|{{1212883200000}}|       Little, Brown| {2}|           {1}|            THE HOST|          {3}|\n",
            "|{5b4aa4ead3089013...|http://www.amazon...|        Emily Giffin|{{1211587200000}}|A woman's happy m...|{24.95, null}|{{1212883200000}}|        St. Martin's| {3}|           {2}|LOVE THE ONE YOU'...|          {2}|\n",
            "|{5b4aa4ead3089013...|http://www.amazon...|   Patricia Cornwell|{{1211587200000}}|A Massachusetts s...|{22.95, null}|{{1212883200000}}|              Putnam| {4}|           {0}|           THE FRONT|          {1}|\n",
            "|{5b4aa4ead3089013...|http://www.amazon...|     Chuck Palahniuk|{{1211587200000}}|An aging porn que...|{24.95, null}|{{1212883200000}}|           Doubleday| {5}|           {0}|               SNUFF|          {1}|\n",
            "|{5b4aa4ead3089013...|http://www.amazon...|James Patterson a...|{{1211587200000}}|A woman finds an ...|{24.99, null}|{{1212883200000}}|       Little, Brown| {6}|           {3}|SUNDAYS AT TIFFANY’S|          {4}|\n",
            "|{5b4aa4ead3089013...|http://www.amazon...|       John Sandford|{{1211587200000}}|The Minneapolis d...|{26.95, null}|{{1212883200000}}|              Putnam| {7}|           {4}|        PHANTOM PREY|          {3}|\n",
            "|{5b4aa4ead3089013...|http://www.amazon...|       Jimmy Buffett|{{1211587200000}}|A Southern family...|{21.99, null}|{{1212883200000}}|       Little, Brown| {8}|           {6}|          SWINE NOT?|          {2}|\n",
            "|{5b4aa4ead3089013...|http://www.amazon...|    Elizabeth George|{{1211587200000}}|In Cornwall, tryi...|{27.95, null}|{{1212883200000}}|              Harper| {9}|           {8}|     CARELESS IN RED|          {3}|\n",
            "|{5b4aa4ead3089013...|http://www.amazon...|      David Baldacci|{{1211587200000}}|An intelligence a...|{26.99, null}|{{1212883200000}}|       Grand Central|{10}|           {7}|     THE WHOLE TRUTH|          {5}|\n",
            "|{5b4aa4ead3089013...|http://www.amazon...|        Troy Denning|{{1211587200000}}|The New Jedi orde...|   {null, 27}|{{1212883200000}}|  Del Rey/Ballantine|{11}|           {5}|          INVINCIBLE|          {2}|\n",
            "|{5b4aa4ead3089013...|http://www.amazon...|          James Frey|{{1211587200000}}|A novel, set in L...|{26.95, null}|{{1212883200000}}|              Harper|{12}|           {9}|BRIGHT SHINY MORNING|          {2}|\n",
            "|{5b4aa4ead3089013...|http://www.amazon...|         Garth Stein|{{1211587200000}}|A Lab-terrier mix...|{23.95, null}|{{1212883200000}}|              Harper|{13}|           {0}|THE ART OF RACING...|          {1}|\n",
            "|{5b4aa4ead3089013...|http://www.amazon...|     Debbie Macomber|{{1211587200000}}|A widow who owns ...|{24.95, null}|{{1212883200000}}|                Mira|{14}|          {10}|       TWENTY WISHES|          {4}|\n",
            "|{5b4aa4ead3089013...|http://www.amazon...|         Jeff Shaara|{{1211587200000}}|A novel about the...|   {null, 28}|{{1212883200000}}|          Ballantine|{15}|          {11}|      THE STEEL WAVE|          {2}|\n",
            "|{5b4aa4ead3089013...|http://www.amazon...|    Phillip Margolin|{{1211587200000}}|                    |    {null, 0}|{{1212883200000}}|HarperCollins Pub...|{16}|           {0}| EXECUTIVE PRIVILEGE|          {0}|\n",
            "|{5b4aa4ead3089013...|http://www.amazon...|       Jhumpa Lahiri|{{1211587200000}}|Stories of the an...|    {null, 0}|{{1212883200000}}|               Knopf|{17}|           {0}|  UNACCUSTOMED EARTH|          {0}|\n",
            "|{5b4aa4ead3089013...|http://www.amazon...|      Joseph O'Neill|{{1211587200000}}|A Dutchman desert...|    {null, 0}|{{1212883200000}}|Knopf Publishing ...|{18}|           {0}|          NETHERLAND|          {0}|\n",
            "|{5b4aa4ead3089013...|http://www.amazon...|        John Grisham|{{1211587200000}}|Political and leg...|    {null, 0}|{{1212883200000}}|Doubleday Publishing|{19}|           {0}|          THE APPEAL|          {0}|\n",
            "|{5b4aa4ead3089013...|http://www.amazon...|       James Rollins|{{1211587200000}}|                    |    {null, 0}|{{1212883200000}}|Random House Publ...|{20}|           {0}|INDIANA JONES AND...|          {0}|\n",
            "+--------------------+--------------------+--------------------+-----------------+--------------------+-------------+-----------------+--------------------+----+--------------+--------------------+-------------+\n",
            "only showing top 20 rows\n",
            "\n"
          ]
        }
      ]
    },
    {
      "cell_type": "code",
      "source": [
        "dataframe_dropdup = dataframe.dropDuplicates() \n",
        "dataframe_dropdup.show(10)"
      ],
      "metadata": {
        "colab": {
          "base_uri": "https://localhost:8080/"
        },
        "id": "0ii0Y-xHrDtH",
        "outputId": "34cd8f22-5add-4140-fbf5-e501e1e8b1ee"
      },
      "execution_count": 36,
      "outputs": [
        {
          "output_type": "stream",
          "name": "stdout",
          "text": [
            "+--------------------+--------------------+--------------------+-----------------+--------------------+-------------+-----------------+----------------+----+--------------+--------------------+-------------+\n",
            "|                 _id|  amazon_product_url|              author| bestsellers_date|         description|        price|   published_date|       publisher|rank|rank_last_week|               title|weeks_on_list|\n",
            "+--------------------+--------------------+--------------------+-----------------+--------------------+-------------+-----------------+----------------+----+--------------+--------------------+-------------+\n",
            "|{5b4aa4ead3089013...|http://www.amazon...|Clive Cussler wit...|{{1213401600000}}|Juan Cabrillo and...|{26.95, null}|{{1214697600000}}|          Putnam| {4}|           {3}|         PLAGUE SHIP|          {2}|\n",
            "|{5b4aa4ead3089013...|http://www.amazon...|      Jeffery Deaver|{{1215820800000}}|Detectives Lincol...|    {null, 0}|{{1217116800000}}|Simon & Schuster|{20}|           {0}|   THE BROKEN WINDOW|          {0}|\n",
            "|{5b4aa4ead3089013...|http://www.amazon...|        Daniel Silva|{{1217030400000}}|Gabriel Allon, an...|{26.95, null}|{{1218326400000}}|          Putnam| {1}|           {0}|  THE SECRET SERVANT|          {1}|\n",
            "|{5b4aa4ead3089013...|http://www.amazon...|     Janet Evanovich|{{1217030400000}}|Stephanie Plum an...|{27.95, null}|{{1218326400000}}|    St. Martin’s| {9}|           {7}|   FEARLESS FOURTEEN|          {6}|\n",
            "|{5b4aa4ead3089013...|http://www.amazon...|          Jane Green|{{1218240000000}}|A woman’s life ch...|    {null, 0}|{{1219536000000}}|          Viking|{18}|           {0}|     THE BEACH HOUSE|          {0}|\n",
            "|{5b4aa4ead3089013...|http://www.amazon...|      Brunonia Barry|{{1220054400000}}|Secrets of a fami...|{24.95, null}|{{1221350400000}}|          Morrow|{13}|          {10}|     THE LACE READER|          {5}|\n",
            "|{5b4aa4ead3089013...|http://www.amazon...|    David Wroblewski|{{1221264000000}}|A mute takes refu...|{25.95, null}|{{1222560000000}}|            Ecco| {9}|           {9}|THE STORY OF EDGA...|         {14}|\n",
            "|{5b4aa4ead3089013...|http://www.amazon...|       John Sandford|{{1225497600000}}|Virgil Flowers in...|    {null, 0}|{{1226793600000}}|          Putnam|{20}|           {0}|      HEAT LIGHTNING|          {0}|\n",
            "|{5b4aa4ead3089013...|http://www.amazon...|            J D Robb|{{1226102400000}}|Lt. Eve Dallas in...|{25.95, null}|{{1227398400000}}|          Putnam| {2}|           {0}|  SALVATION IN DEATH|          {1}|\n",
            "|{5b4aa4ead3089013...|http://www.amazon...|       Toni Morrison|{{1226707200000}}|In 17th-century A...|{23.95, null}|{{1228003200000}}|           Knopf| {5}|           {0}|             A MERCY|          {1}|\n",
            "+--------------------+--------------------+--------------------+-----------------+--------------------+-------------+-----------------+----------------+----+--------------+--------------------+-------------+\n",
            "only showing top 10 rows\n",
            "\n"
          ]
        }
      ]
    },
    {
      "cell_type": "code",
      "source": [
        "dataframe.select(\"_id\").show(20)\n",
        "#Show all entries in title column\n",
        "dataframe.select(\"author\").show(10)\n",
        "#Show all entries in title, author, rank, price columns\n",
        "dataframe.select(\"author\", \"title\", \"rank\", \"price\").show(10)"
      ],
      "metadata": {
        "colab": {
          "base_uri": "https://localhost:8080/"
        },
        "id": "WndzoAn7rLUr",
        "outputId": "c7a37a0d-391d-4053-bedf-86149eabea24"
      },
      "execution_count": 39,
      "outputs": [
        {
          "output_type": "stream",
          "name": "stdout",
          "text": [
            "+--------------------+\n",
            "|                 _id|\n",
            "+--------------------+\n",
            "|{5b4aa4ead3089013...|\n",
            "|{5b4aa4ead3089013...|\n",
            "|{5b4aa4ead3089013...|\n",
            "|{5b4aa4ead3089013...|\n",
            "|{5b4aa4ead3089013...|\n",
            "|{5b4aa4ead3089013...|\n",
            "|{5b4aa4ead3089013...|\n",
            "|{5b4aa4ead3089013...|\n",
            "|{5b4aa4ead3089013...|\n",
            "|{5b4aa4ead3089013...|\n",
            "|{5b4aa4ead3089013...|\n",
            "|{5b4aa4ead3089013...|\n",
            "|{5b4aa4ead3089013...|\n",
            "|{5b4aa4ead3089013...|\n",
            "|{5b4aa4ead3089013...|\n",
            "|{5b4aa4ead3089013...|\n",
            "|{5b4aa4ead3089013...|\n",
            "|{5b4aa4ead3089013...|\n",
            "|{5b4aa4ead3089013...|\n",
            "|{5b4aa4ead3089013...|\n",
            "+--------------------+\n",
            "only showing top 20 rows\n",
            "\n",
            "+--------------------+\n",
            "|              author|\n",
            "+--------------------+\n",
            "|       Dean R Koontz|\n",
            "|     Stephenie Meyer|\n",
            "|        Emily Giffin|\n",
            "|   Patricia Cornwell|\n",
            "|     Chuck Palahniuk|\n",
            "|James Patterson a...|\n",
            "|       John Sandford|\n",
            "|       Jimmy Buffett|\n",
            "|    Elizabeth George|\n",
            "|      David Baldacci|\n",
            "+--------------------+\n",
            "only showing top 10 rows\n",
            "\n",
            "+--------------------+--------------------+----+-------------+\n",
            "|              author|               title|rank|        price|\n",
            "+--------------------+--------------------+----+-------------+\n",
            "|       Dean R Koontz|           ODD HOURS| {1}|   {null, 27}|\n",
            "|     Stephenie Meyer|            THE HOST| {2}|{25.99, null}|\n",
            "|        Emily Giffin|LOVE THE ONE YOU'...| {3}|{24.95, null}|\n",
            "|   Patricia Cornwell|           THE FRONT| {4}|{22.95, null}|\n",
            "|     Chuck Palahniuk|               SNUFF| {5}|{24.95, null}|\n",
            "|James Patterson a...|SUNDAYS AT TIFFANY’S| {6}|{24.99, null}|\n",
            "|       John Sandford|        PHANTOM PREY| {7}|{26.95, null}|\n",
            "|       Jimmy Buffett|          SWINE NOT?| {8}|{21.99, null}|\n",
            "|    Elizabeth George|     CARELESS IN RED| {9}|{27.95, null}|\n",
            "|      David Baldacci|     THE WHOLE TRUTH|{10}|{26.99, null}|\n",
            "+--------------------+--------------------+----+-------------+\n",
            "only showing top 10 rows\n",
            "\n"
          ]
        }
      ]
    },
    {
      "cell_type": "code",
      "source": [
        "dataframe.select(\"title\",when(dataframe.title != 'ODD HOURS', 1).otherwise(0)).show(10)"
      ],
      "metadata": {
        "colab": {
          "base_uri": "https://localhost:8080/"
        },
        "id": "sCzlqWBXtLY6",
        "outputId": "eafbfa19-e4d2-4689-d673-d3057eebcf88"
      },
      "execution_count": 41,
      "outputs": [
        {
          "output_type": "stream",
          "name": "stdout",
          "text": [
            "+--------------------+-----------------------------------------------------+\n",
            "|               title|CASE WHEN (NOT (title = ODD HOURS)) THEN 1 ELSE 0 END|\n",
            "+--------------------+-----------------------------------------------------+\n",
            "|           ODD HOURS|                                                    0|\n",
            "|            THE HOST|                                                    1|\n",
            "|LOVE THE ONE YOU'...|                                                    1|\n",
            "|           THE FRONT|                                                    1|\n",
            "|               SNUFF|                                                    1|\n",
            "|SUNDAYS AT TIFFANY’S|                                                    1|\n",
            "|        PHANTOM PREY|                                                    1|\n",
            "|          SWINE NOT?|                                                    1|\n",
            "|     CARELESS IN RED|                                                    1|\n",
            "|     THE WHOLE TRUTH|                                                    1|\n",
            "+--------------------+-----------------------------------------------------+\n",
            "only showing top 10 rows\n",
            "\n"
          ]
        }
      ]
    },
    {
      "cell_type": "code",
      "source": [
        "# Show rows with specified authors if in the given options\n",
        "dataframe [dataframe.author.isin(\"David Baldacci\", \"Emily Giffin\")].show(5)"
      ],
      "metadata": {
        "colab": {
          "base_uri": "https://localhost:8080/"
        },
        "id": "vJKlz2SItZvg",
        "outputId": "aa612ae4-f5f4-4b51-a895-0369546b218c"
      },
      "execution_count": 42,
      "outputs": [
        {
          "output_type": "stream",
          "name": "stdout",
          "text": [
            "+--------------------+--------------------+--------------+-----------------+--------------------+-------------+-----------------+-------------+----+--------------+--------------------+-------------+\n",
            "|                 _id|  amazon_product_url|        author| bestsellers_date|         description|        price|   published_date|    publisher|rank|rank_last_week|               title|weeks_on_list|\n",
            "+--------------------+--------------------+--------------+-----------------+--------------------+-------------+-----------------+-------------+----+--------------+--------------------+-------------+\n",
            "|{5b4aa4ead3089013...|http://www.amazon...|  Emily Giffin|{{1211587200000}}|A woman's happy m...|{24.95, null}|{{1212883200000}}| St. Martin's| {3}|           {2}|LOVE THE ONE YOU'...|          {2}|\n",
            "|{5b4aa4ead3089013...|http://www.amazon...|David Baldacci|{{1211587200000}}|An intelligence a...|{26.99, null}|{{1212883200000}}|Grand Central|{10}|           {7}|     THE WHOLE TRUTH|          {5}|\n",
            "|{5b4aa4ead3089013...|http://www.amazon...|  Emily Giffin|{{1212192000000}}|A woman’s happy m...|{24.95, null}|{{1213488000000}}| St. Martin’s| {4}|           {3}|LOVE THE ONE YOU'...|          {3}|\n",
            "|{5b4aa4ead3089013...|http://www.amazon...|David Baldacci|{{1212192000000}}|An intelligence a...|{26.99, null}|{{1213488000000}}|Grand Central|{13}|          {10}|     THE WHOLE TRUTH|          {6}|\n",
            "|{5b4aa4ead3089013...|http://www.amazon...|  Emily Giffin|{{1212796800000}}|A woman’s happy m...|{24.95, null}|{{1214092800000}}| St. Martin’s| {4}|           {4}|LOVE THE ONE YOU'...|          {4}|\n",
            "+--------------------+--------------------+--------------+-----------------+--------------------+-------------+-----------------+-------------+----+--------------+--------------------+-------------+\n",
            "only showing top 5 rows\n",
            "\n"
          ]
        }
      ]
    },
    {
      "cell_type": "code",
      "source": [
        "# Show author and title is TRUE if title has \" THE \" word in titles\n",
        "dataframe.select(\"author\", \"title\",\n",
        "dataframe.title.like(\"% THE %\")).show(15)"
      ],
      "metadata": {
        "colab": {
          "base_uri": "https://localhost:8080/"
        },
        "id": "wLu-a5ZdtwkW",
        "outputId": "b07d5566-f975-4907-c3c9-2129f9a6c431"
      },
      "execution_count": 43,
      "outputs": [
        {
          "output_type": "stream",
          "name": "stdout",
          "text": [
            "+--------------------+--------------------+------------------+\n",
            "|              author|               title|title LIKE % THE %|\n",
            "+--------------------+--------------------+------------------+\n",
            "|       Dean R Koontz|           ODD HOURS|             false|\n",
            "|     Stephenie Meyer|            THE HOST|             false|\n",
            "|        Emily Giffin|LOVE THE ONE YOU'...|              true|\n",
            "|   Patricia Cornwell|           THE FRONT|             false|\n",
            "|     Chuck Palahniuk|               SNUFF|             false|\n",
            "|James Patterson a...|SUNDAYS AT TIFFANY’S|             false|\n",
            "|       John Sandford|        PHANTOM PREY|             false|\n",
            "|       Jimmy Buffett|          SWINE NOT?|             false|\n",
            "|    Elizabeth George|     CARELESS IN RED|             false|\n",
            "|      David Baldacci|     THE WHOLE TRUTH|             false|\n",
            "|        Troy Denning|          INVINCIBLE|             false|\n",
            "|          James Frey|BRIGHT SHINY MORNING|             false|\n",
            "|         Garth Stein|THE ART OF RACING...|              true|\n",
            "|     Debbie Macomber|       TWENTY WISHES|             false|\n",
            "|         Jeff Shaara|      THE STEEL WAVE|             false|\n",
            "+--------------------+--------------------+------------------+\n",
            "only showing top 15 rows\n",
            "\n"
          ]
        }
      ]
    },
    {
      "cell_type": "code",
      "source": [
        "# End Spark Session\n",
        "sc.stop()"
      ],
      "metadata": {
        "id": "t5xu-q3vtznR"
      },
      "execution_count": 44,
      "outputs": []
    }
  ]
}